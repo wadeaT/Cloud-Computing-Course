{
  "nbformat": 4,
  "nbformat_minor": 0,
  "metadata": {
    "colab": {
      "provenance": [],
      "authorship_tag": "ABX9TyPFg7oIWXSfnGGzuIZ9dkHW",
      "include_colab_link": true
    },
    "kernelspec": {
      "name": "python3",
      "display_name": "Python 3"
    },
    "language_info": {
      "name": "python"
    },
    "widgets": {
      "application/vnd.jupyter.widget-state+json": {
        "409afc6593f34fbf847aa47bfa9052e6": {
          "model_module": "@jupyter-widgets/controls",
          "model_name": "DropdownModel",
          "model_module_version": "1.5.0",
          "state": {
            "_dom_classes": [],
            "_model_module": "@jupyter-widgets/controls",
            "_model_module_version": "1.5.0",
            "_model_name": "DropdownModel",
            "_options_labels": [
              "wadia tanus",
              "Student2",
              "Student3"
            ],
            "_view_count": null,
            "_view_module": "@jupyter-widgets/controls",
            "_view_module_version": "1.5.0",
            "_view_name": "DropdownView",
            "description": "Select Student:",
            "description_tooltip": null,
            "disabled": false,
            "index": 0,
            "layout": "IPY_MODEL_2de7761476344000bac2b95b0eedc133",
            "style": "IPY_MODEL_32c6bd91064e4529a9ac81208966257b"
          }
        },
        "2de7761476344000bac2b95b0eedc133": {
          "model_module": "@jupyter-widgets/base",
          "model_name": "LayoutModel",
          "model_module_version": "1.2.0",
          "state": {
            "_model_module": "@jupyter-widgets/base",
            "_model_module_version": "1.2.0",
            "_model_name": "LayoutModel",
            "_view_count": null,
            "_view_module": "@jupyter-widgets/base",
            "_view_module_version": "1.2.0",
            "_view_name": "LayoutView",
            "align_content": null,
            "align_items": null,
            "align_self": null,
            "border": null,
            "bottom": null,
            "display": null,
            "flex": null,
            "flex_flow": null,
            "grid_area": null,
            "grid_auto_columns": null,
            "grid_auto_flow": null,
            "grid_auto_rows": null,
            "grid_column": null,
            "grid_gap": null,
            "grid_row": null,
            "grid_template_areas": null,
            "grid_template_columns": null,
            "grid_template_rows": null,
            "height": null,
            "justify_content": null,
            "justify_items": null,
            "left": null,
            "margin": null,
            "max_height": null,
            "max_width": null,
            "min_height": null,
            "min_width": null,
            "object_fit": null,
            "object_position": null,
            "order": null,
            "overflow": null,
            "overflow_x": null,
            "overflow_y": null,
            "padding": null,
            "right": null,
            "top": null,
            "visibility": null,
            "width": null
          }
        },
        "32c6bd91064e4529a9ac81208966257b": {
          "model_module": "@jupyter-widgets/controls",
          "model_name": "DescriptionStyleModel",
          "model_module_version": "1.5.0",
          "state": {
            "_model_module": "@jupyter-widgets/controls",
            "_model_module_version": "1.5.0",
            "_model_name": "DescriptionStyleModel",
            "_view_count": null,
            "_view_module": "@jupyter-widgets/base",
            "_view_module_version": "1.2.0",
            "_view_name": "StyleView",
            "description_width": "initial"
          }
        },
        "f9650b1b3470401b9aaf732860192585": {
          "model_module": "@jupyter-widgets/controls",
          "model_name": "TextModel",
          "model_module_version": "1.5.0",
          "state": {
            "_dom_classes": [],
            "_model_module": "@jupyter-widgets/controls",
            "_model_module_version": "1.5.0",
            "_model_name": "TextModel",
            "_view_count": null,
            "_view_module": "@jupyter-widgets/controls",
            "_view_module_version": "1.5.0",
            "_view_name": "TextView",
            "continuous_update": true,
            "description": "Favorite Program:",
            "description_tooltip": null,
            "disabled": false,
            "layout": "IPY_MODEL_6453a1f871014838a3d124ee12507306",
            "placeholder": "​",
            "style": "IPY_MODEL_c6ab452bf7654471be2946a971d9832f",
            "value": "a3"
          }
        },
        "6453a1f871014838a3d124ee12507306": {
          "model_module": "@jupyter-widgets/base",
          "model_name": "LayoutModel",
          "model_module_version": "1.2.0",
          "state": {
            "_model_module": "@jupyter-widgets/base",
            "_model_module_version": "1.2.0",
            "_model_name": "LayoutModel",
            "_view_count": null,
            "_view_module": "@jupyter-widgets/base",
            "_view_module_version": "1.2.0",
            "_view_name": "LayoutView",
            "align_content": null,
            "align_items": null,
            "align_self": null,
            "border": null,
            "bottom": null,
            "display": null,
            "flex": null,
            "flex_flow": null,
            "grid_area": null,
            "grid_auto_columns": null,
            "grid_auto_flow": null,
            "grid_auto_rows": null,
            "grid_column": null,
            "grid_gap": null,
            "grid_row": null,
            "grid_template_areas": null,
            "grid_template_columns": null,
            "grid_template_rows": null,
            "height": null,
            "justify_content": null,
            "justify_items": null,
            "left": null,
            "margin": null,
            "max_height": null,
            "max_width": null,
            "min_height": null,
            "min_width": null,
            "object_fit": null,
            "object_position": null,
            "order": null,
            "overflow": null,
            "overflow_x": null,
            "overflow_y": null,
            "padding": null,
            "right": null,
            "top": null,
            "visibility": null,
            "width": null
          }
        },
        "c6ab452bf7654471be2946a971d9832f": {
          "model_module": "@jupyter-widgets/controls",
          "model_name": "DescriptionStyleModel",
          "model_module_version": "1.5.0",
          "state": {
            "_model_module": "@jupyter-widgets/controls",
            "_model_module_version": "1.5.0",
            "_model_name": "DescriptionStyleModel",
            "_view_count": null,
            "_view_module": "@jupyter-widgets/base",
            "_view_module_version": "1.2.0",
            "_view_name": "StyleView",
            "description_width": "initial"
          }
        },
        "153013698bf04e7fb3c298bdff69e429": {
          "model_module": "@jupyter-widgets/controls",
          "model_name": "ButtonModel",
          "model_module_version": "1.5.0",
          "state": {
            "_dom_classes": [],
            "_model_module": "@jupyter-widgets/controls",
            "_model_module_version": "1.5.0",
            "_model_name": "ButtonModel",
            "_view_count": null,
            "_view_module": "@jupyter-widgets/controls",
            "_view_module_version": "1.5.0",
            "_view_name": "ButtonView",
            "button_style": "",
            "description": "Update",
            "disabled": false,
            "icon": "",
            "layout": "IPY_MODEL_2b3562edebd142a58e6e0aabe342240f",
            "style": "IPY_MODEL_e5d9e4e180bd4a50814cd3fe60425960",
            "tooltip": ""
          }
        },
        "2b3562edebd142a58e6e0aabe342240f": {
          "model_module": "@jupyter-widgets/base",
          "model_name": "LayoutModel",
          "model_module_version": "1.2.0",
          "state": {
            "_model_module": "@jupyter-widgets/base",
            "_model_module_version": "1.2.0",
            "_model_name": "LayoutModel",
            "_view_count": null,
            "_view_module": "@jupyter-widgets/base",
            "_view_module_version": "1.2.0",
            "_view_name": "LayoutView",
            "align_content": null,
            "align_items": null,
            "align_self": null,
            "border": null,
            "bottom": null,
            "display": null,
            "flex": null,
            "flex_flow": null,
            "grid_area": null,
            "grid_auto_columns": null,
            "grid_auto_flow": null,
            "grid_auto_rows": null,
            "grid_column": null,
            "grid_gap": null,
            "grid_row": null,
            "grid_template_areas": null,
            "grid_template_columns": null,
            "grid_template_rows": null,
            "height": null,
            "justify_content": null,
            "justify_items": null,
            "left": null,
            "margin": null,
            "max_height": null,
            "max_width": null,
            "min_height": null,
            "min_width": null,
            "object_fit": null,
            "object_position": null,
            "order": null,
            "overflow": null,
            "overflow_x": null,
            "overflow_y": null,
            "padding": null,
            "right": null,
            "top": null,
            "visibility": null,
            "width": null
          }
        },
        "e5d9e4e180bd4a50814cd3fe60425960": {
          "model_module": "@jupyter-widgets/controls",
          "model_name": "ButtonStyleModel",
          "model_module_version": "1.5.0",
          "state": {
            "_model_module": "@jupyter-widgets/controls",
            "_model_module_version": "1.5.0",
            "_model_name": "ButtonStyleModel",
            "_view_count": null,
            "_view_module": "@jupyter-widgets/base",
            "_view_module_version": "1.2.0",
            "_view_name": "StyleView",
            "button_color": null,
            "font_weight": ""
          }
        }
      }
    }
  },
  "cells": [
    {
      "cell_type": "markdown",
      "metadata": {
        "id": "view-in-github",
        "colab_type": "text"
      },
      "source": [
        "<a href=\"https://colab.research.google.com/github/wadeaT/Cloud-Computing-Course/blob/main/Tutorial1.ipynb\" target=\"_parent\"><img src=\"https://colab.research.google.com/assets/colab-badge.svg\" alt=\"Open In Colab\"/></a>"
      ]
    },
    {
      "cell_type": "markdown",
      "source": [],
      "metadata": {
        "id": "I5NHnXJl9dWJ"
      }
    },
    {
      "cell_type": "code",
      "source": [
        "from google.colab import drive\n",
        "drive.mount('/content/drive')"
      ],
      "metadata": {
        "colab": {
          "base_uri": "https://localhost:8080/"
        },
        "id": "7UhNbCTZDTpd",
        "outputId": "b10fdbca-c44b-4bd8-b830-9875c1681d7d"
      },
      "execution_count": 15,
      "outputs": [
        {
          "output_type": "stream",
          "name": "stdout",
          "text": [
            "Drive already mounted at /content/drive; to attempt to forcibly remount, call drive.mount(\"/content/drive\", force_remount=True).\n"
          ]
        }
      ]
    },
    {
      "cell_type": "code",
      "source": [
        "import ipywidgets as widgets\n",
        "from IPython.display import display, clear_output\n",
        "\n",
        "# Initialize an array to store student data\n",
        "ArrayOfStudents = []\n",
        "\n",
        "# Step 2: Read the file and populate the array\n",
        "file_path = '/content/drive/My Drive/Colab Notebooks/students.txt'\n",
        "\n",
        "with open(file_path, 'r') as file:\n",
        "    students = file.readlines()\n",
        "    for line in students:\n",
        "        line = line.strip()  # Remove extra spaces or newline characters\n",
        "        if line:  # Skip empty lines\n",
        "            name, email, courses = line.split(\" - \")\n",
        "            ArrayOfStudents.append({\"name\": name, \"email\": email, \"courses\": courses, \"favorite_program\": \"\"})\n",
        "\n",
        "#list of student names for the dropdown\n",
        "student_names = [student['name'] for student in ArrayOfStudents]\n",
        "\n",
        "#dropdown widget without the empty option\n",
        "dropdown = widgets.Dropdown(\n",
        "    options=student_names,  # Only include student names\n",
        "    description=\"Select Student:\",\n",
        "    style={'description_width': 'initial'}\n",
        ")\n",
        "\n",
        "# Create a text box for the user to enter a favorite program\n",
        "favorite_program_textbox = widgets.Text(\n",
        "    description=\"Favorite Program:\",\n",
        "    style={'description_width': 'initial'}\n",
        ")\n",
        "\n",
        "#the \"Update\" button\n",
        "update_button = widgets.Button(description=\"Update\")\n",
        "\n",
        "# Function to display the selected student's details and the favorite program textbox\n",
        "def display_student_details(change):\n",
        "    # Clear previous output to avoid showing previous selections\n",
        "    clear_output(wait=True)\n",
        "\n",
        "    selected_student_name = change.new\n",
        "    if selected_student_name:\n",
        "        student = next((s for s in ArrayOfStudents if s['name'] == selected_student_name), None)\n",
        "        if student:\n",
        "            # Display current details\n",
        "            print(f\"Student Details\\n{'='*15}\")\n",
        "            print(f\"Name: {student['name']}\")\n",
        "            print(f\"Email: {student['email']}\")\n",
        "            print(f\"Courses: {student['courses']}\")\n",
        "            print(f\"Favorite Program: {student['favorite_program']}\")\n",
        "            print(\"=\"*30)\n",
        "\n",
        "            # Display the favorite program textbox\n",
        "            display(favorite_program_textbox)\n",
        "            display(update_button)\n",
        "        else:\n",
        "            print(\"Student not found.\")\n",
        "    else:\n",
        "        print(\"No student selected.\")\n",
        "\n",
        "    # Display the dropdown again to allow the next selection\n",
        "    display(dropdown)\n",
        "\n",
        "# Function to update the favorite program in the array and text file\n",
        "def update_favorite_program(b):\n",
        "    selected_student_name = dropdown.value\n",
        "    if selected_student_name:\n",
        "        student = next((s for s in ArrayOfStudents if s['name'] == selected_student_name), None)\n",
        "        if student:\n",
        "            # Update the student's favorite program\n",
        "            student['favorite_program'] = favorite_program_textbox.value\n",
        "\n",
        "            # Append the updated favorite program to the text file (without deleting old content)\n",
        "            with open(file_path, 'a') as file:\n",
        "                file.write(f\"\\n{student['name']} - {student['email']} - {student['courses']} - {student['favorite_program']}\")\n",
        "\n",
        "            print(f\"Favorite Program for {student['name']} updated successfully!\")\n",
        "        else:\n",
        "            print(\"Student not found.\")\n",
        "    else:\n",
        "        print(\"No student selected.\")\n",
        "\n",
        "# Link the function to the dropdown change event\n",
        "dropdown.observe(display_student_details, names='value')\n",
        "\n",
        "# Link the update button to the function\n",
        "update_button.on_click(update_favorite_program)\n",
        "\n",
        "# Display the dropdown\n",
        "display(dropdown)\n"
      ],
      "metadata": {
        "colab": {
          "base_uri": "https://localhost:8080/",
          "height": 252,
          "referenced_widgets": [
            "409afc6593f34fbf847aa47bfa9052e6",
            "2de7761476344000bac2b95b0eedc133",
            "32c6bd91064e4529a9ac81208966257b",
            "f9650b1b3470401b9aaf732860192585",
            "6453a1f871014838a3d124ee12507306",
            "c6ab452bf7654471be2946a971d9832f",
            "153013698bf04e7fb3c298bdff69e429",
            "2b3562edebd142a58e6e0aabe342240f",
            "e5d9e4e180bd4a50814cd3fe60425960"
          ]
        },
        "id": "XFHT7KPOEsJ8",
        "outputId": "7f6e8c95-8259-46d7-dd7e-f0b9c7c4d55e"
      },
      "execution_count": 28,
      "outputs": [
        {
          "output_type": "stream",
          "name": "stdout",
          "text": [
            "Student Details\n",
            "===============\n",
            "Name: wadia tanus\n",
            "Email: Wadia.Tanus@e.braude.ac.il\n",
            "Courses: Cloud Computing, Physics, Partial differential equation, Complex dynamic systems theory, Advanced Web Technologies, deep learning for computer vision, NLP with deep learning\n",
            "Favorite Program: \n",
            "==============================\n"
          ]
        },
        {
          "output_type": "display_data",
          "data": {
            "text/plain": [
              "Text(value='aaa', description='Favorite Program:', style=DescriptionStyle(description_width='initial'))"
            ],
            "application/vnd.jupyter.widget-view+json": {
              "version_major": 2,
              "version_minor": 0,
              "model_id": "f9650b1b3470401b9aaf732860192585"
            }
          },
          "metadata": {}
        },
        {
          "output_type": "display_data",
          "data": {
            "text/plain": [
              "Button(description='Update', style=ButtonStyle())"
            ],
            "application/vnd.jupyter.widget-view+json": {
              "version_major": 2,
              "version_minor": 0,
              "model_id": "153013698bf04e7fb3c298bdff69e429"
            }
          },
          "metadata": {}
        },
        {
          "output_type": "display_data",
          "data": {
            "text/plain": [
              "Dropdown(description='Select Student:', options=('wadia tanus', 'Student2', 'Student3'), style=DescriptionStyl…"
            ],
            "application/vnd.jupyter.widget-view+json": {
              "version_major": 2,
              "version_minor": 0,
              "model_id": "409afc6593f34fbf847aa47bfa9052e6"
            }
          },
          "metadata": {}
        },
        {
          "output_type": "stream",
          "name": "stdout",
          "text": [
            "Favorite Program for wadia tanus updated successfully!\n"
          ]
        }
      ]
    }
  ]
}